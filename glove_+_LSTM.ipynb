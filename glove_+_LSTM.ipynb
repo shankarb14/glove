{
  "nbformat": 4,
  "nbformat_minor": 0,
  "metadata": {
    "colab": {
      "name": "glove + LSTM.ipynb",
      "provenance": [],
      "collapsed_sections": [],
      "include_colab_link": true
    },
    "kernelspec": {
      "name": "python3",
      "display_name": "Python 3"
    },
    "language_info": {
      "name": "python"
    },
    "accelerator": "GPU"
  },
  "cells": [
    {
      "cell_type": "markdown",
      "metadata": {
        "id": "view-in-github",
        "colab_type": "text"
      },
      "source": [
        "<a href=\"https://colab.research.google.com/github/shankarb14/glove/blob/master/glove_%2B_LSTM.ipynb\" target=\"_parent\"><img src=\"https://colab.research.google.com/assets/colab-badge.svg\" alt=\"Open In Colab\"/></a>"
      ]
    },
    {
      "cell_type": "code",
      "metadata": {
        "colab": {
          "base_uri": "https://localhost:8080/"
        },
        "id": "xBZsoqxY9djb",
        "outputId": "0189fec2-b46a-4c63-fcca-27ad0222b975"
      },
      "source": [
        "# Download the GloVe embeddings   \n",
        "!wget http://nlp.stanford.edu/data/glove.6B.zip  \n",
        "!unzip glove.6B.zip "
      ],
      "execution_count": null,
      "outputs": [
        {
          "output_type": "stream",
          "text": [
            "--2021-07-13 17:26:05--  http://nlp.stanford.edu/data/glove.6B.zip\n",
            "Resolving nlp.stanford.edu (nlp.stanford.edu)... 171.64.67.140\n",
            "Connecting to nlp.stanford.edu (nlp.stanford.edu)|171.64.67.140|:80... connected.\n",
            "HTTP request sent, awaiting response... 302 Found\n",
            "Location: https://nlp.stanford.edu/data/glove.6B.zip [following]\n",
            "--2021-07-13 17:26:05--  https://nlp.stanford.edu/data/glove.6B.zip\n",
            "Connecting to nlp.stanford.edu (nlp.stanford.edu)|171.64.67.140|:443... connected.\n",
            "HTTP request sent, awaiting response... 301 Moved Permanently\n",
            "Location: http://downloads.cs.stanford.edu/nlp/data/glove.6B.zip [following]\n",
            "--2021-07-13 17:26:06--  http://downloads.cs.stanford.edu/nlp/data/glove.6B.zip\n",
            "Resolving downloads.cs.stanford.edu (downloads.cs.stanford.edu)... 171.64.64.22\n",
            "Connecting to downloads.cs.stanford.edu (downloads.cs.stanford.edu)|171.64.64.22|:80... connected.\n",
            "HTTP request sent, awaiting response... 200 OK\n",
            "Length: 862182613 (822M) [application/zip]\n",
            "Saving to: ‘glove.6B.zip’\n",
            "\n",
            "glove.6B.zip        100%[===================>] 822.24M  5.02MB/s    in 2m 40s  \n",
            "\n",
            "2021-07-13 17:28:45 (5.14 MB/s) - ‘glove.6B.zip’ saved [862182613/862182613]\n",
            "\n",
            "Archive:  glove.6B.zip\n",
            "  inflating: glove.6B.50d.txt        \n",
            "  inflating: glove.6B.100d.txt       \n",
            "  inflating: glove.6B.200d.txt       \n",
            "  inflating: glove.6B.300d.txt       \n"
          ],
          "name": "stdout"
        }
      ]
    },
    {
      "cell_type": "markdown",
      "metadata": {
        "id": "KTohMH8gG1l-"
      },
      "source": [
        "Importing different libraries "
      ]
    },
    {
      "cell_type": "code",
      "metadata": {
        "id": "AuxYeWWH9hUq"
      },
      "source": [
        "import subprocess\n",
        "import numpy as np\n",
        "import pandas as pd\n",
        "import matplotlib.pyplot as plt\n",
        "import re\n",
        "import pickle\n",
        "from nltk.corpus import stopwords\n",
        "from nltk.stem import WordNetLemmatizer #word stemmer class\n",
        "lemma = WordNetLemmatizer()\n",
        "from keras.preprocessing.text import Tokenizer\n",
        "from keras.preprocessing.sequence import pad_sequences\n",
        "from keras.models import Sequential\n",
        "from keras.layers import Dense, Bidirectional, LSTM, Dropout, BatchNormalization\n",
        "from keras.layers.embeddings import Embedding"
      ],
      "execution_count": null,
      "outputs": []
    },
    {
      "cell_type": "markdown",
      "metadata": {
        "id": "IKTwa-gYPdx6"
      },
      "source": [
        "Reading csv file"
      ]
    },
    {
      "cell_type": "code",
      "metadata": {
        "id": "9pSsco52O3E1"
      },
      "source": [
        "df=pd.read_csv('/content/train (1).csv')"
      ],
      "execution_count": null,
      "outputs": []
    },
    {
      "cell_type": "markdown",
      "metadata": {
        "id": "MtiM9y3wP0e6"
      },
      "source": [
        "Create a list of punctuation marks"
      ]
    },
    {
      "cell_type": "code",
      "metadata": {
        "id": "juTBdwmXPwIo"
      },
      "source": [
        "puncts = [',', '.', '\"', ':', ')', '(', '-', '!', '?', '|', ';', \"'\", '$', '&', '/', '[', ']', '>', '%', '=', '#', '*', '+', '\\\\', '•',  '~', '@', '£', \n",
        " '•', '_', '{', '}', '©', '^', '®', '`',  '<', '→', '°', '€', '™', '›',  '♥', '←', '×', '§', '″', '′', 'Â', '█', '½', 'à', '…', \n",
        " '“', '★', '”', '–', '●', 'â', '►', '−', '¢', '²', '¬', '░', '¶', '↑', '±', '¿', '▾', '═', '¦', '║', '―', '¥', '▓', '—', '‹', '─', \n",
        " '▒', '：', '¼', '⊕', '▼', '▪', '†', '■', '’', '▀', '¨', '▄', '♫', '☆', 'é', '¯', '♦', '¤', '▲', 'è', '¸', '¾', 'Ã', '⋅', '‘', '∞', \n",
        " '∙', '）', '↓', '、', '│', '（', '»', '，', '♪', '╩', '╚', '³', '・', '╦', '╣', '╔', '╗', '▬', '❤', 'ï', 'Ø', '¹', '≤', '‡', '√']\n"
      ],
      "execution_count": null,
      "outputs": []
    },
    {
      "cell_type": "markdown",
      "metadata": {
        "id": "RTOgzkvfQQDb"
      },
      "source": [
        "Code to replace punctuations with whitespaces"
      ]
    },
    {
      "cell_type": "code",
      "metadata": {
        "id": "CYtj6_eSQT28"
      },
      "source": [
        "def clean_text(x):\n",
        "    x = str(x)\n",
        "    for punct in puncts:\n",
        "        if punct in x:\n",
        "            x = x.replace(punct, ' ')\n",
        "    return x\n"
      ],
      "execution_count": null,
      "outputs": []
    },
    {
      "cell_type": "markdown",
      "metadata": {
        "id": "YV5Q8TvlQZFC"
      },
      "source": [
        " Cleaning URLs, twitter user_handles, punctuations, whitespaces and converting to lowercase"
      ]
    },
    {
      "cell_type": "code",
      "metadata": {
        "colab": {
          "base_uri": "https://localhost:8080/"
        },
        "id": "ip4uQNHTQdE7",
        "outputId": "2a499d49-5514-4995-d4b9-e860d0d00bd6"
      },
      "source": [
        "df['Cleaned'] = df['tweet'].apply(lambda x: re.sub(r'http\\S+', '', x))\n",
        "df['Cleaned'] = df['Cleaned'].apply(lambda x: re.sub(\"@[\\w]*\", '', x))\n",
        "df['Cleaned'] = df['Cleaned'].apply(lambda x: clean_text(x))\n",
        "df['Cleaned'] = df['Cleaned'].str.lower()\n",
        "df['Cleaned'] = df['Cleaned'].apply(lambda x:' '.join(x.split()))\n",
        "df['Sentiment'] = df['label']\n",
        "df = df.drop(['tweet','label'],axis=1)\n",
        "print(df.head())\n"
      ],
      "execution_count": null,
      "outputs": [
        {
          "output_type": "stream",
          "text": [
            "   id                                            Cleaned Sentiment\n",
            "0   1  the cdc currently reports 99031 deaths in gene...      real\n",
            "1   2  states reported 1121 deaths a small rise from ...      real\n",
            "2   3  politically correct woman almost uses pandemic...      fake\n",
            "3   4  indiafightscorona we have 1524 covid testing l...      real\n",
            "4   5  populous states can generate large case counts...      real\n"
          ],
          "name": "stdout"
        }
      ]
    },
    {
      "cell_type": "markdown",
      "metadata": {
        "id": "0PbiPYSNHQ_0"
      },
      "source": [
        "Reading labels and converting to 1 and 0"
      ]
    },
    {
      "cell_type": "code",
      "metadata": {
        "colab": {
          "base_uri": "https://localhost:8080/"
        },
        "id": "hRh723mAcU_w",
        "outputId": "58422d73-1cf8-4376-fa9b-8a6ddeb01951"
      },
      "source": [
        "label = df['Sentiment']\n",
        "label = np.array(list(map(lambda x: 1 if x==\"real\" else 0, label)))\n",
        "df.isna().sum()"
      ],
      "execution_count": null,
      "outputs": [
        {
          "output_type": "execute_result",
          "data": {
            "text/plain": [
              "id           0\n",
              "Cleaned      0\n",
              "Sentiment    0\n",
              "dtype: int64"
            ]
          },
          "metadata": {
            "tags": []
          },
          "execution_count": 7
        }
      ]
    },
    {
      "cell_type": "markdown",
      "metadata": {
        "id": "LjHgKtKEHu8c"
      },
      "source": [
        "tokenization and padding the tokens."
      ]
    },
    {
      "cell_type": "code",
      "metadata": {
        "id": "TKAKNvWdpWm0"
      },
      "source": [
        "max_length =100\n",
        "\n",
        "t = Tokenizer()\n",
        "t.fit_on_texts(df['Cleaned'])\n",
        "vocab_size = len(t.word_index) + 1\n",
        "encoded_tweets = t.texts_to_sequences(df['Cleaned'])\n",
        "padded_tweets = pad_sequences(encoded_tweets, maxlen=max_length, padding='post')\n",
        "\n",
        "vocab_size = len(t.word_index) + 1"
      ],
      "execution_count": null,
      "outputs": []
    },
    {
      "cell_type": "markdown",
      "metadata": {
        "id": "QTlNfB5mIOf1"
      },
      "source": [
        "Extracting pretrained  Glove embeddings values"
      ]
    },
    {
      "cell_type": "code",
      "metadata": {
        "id": "KYe31bplqySo"
      },
      "source": [
        "embeddings_index = dict()\n",
        "f = open('/content/glove.6B.100d.txt')\n",
        "for line in f:\n",
        "    values = line.split()\n",
        "    word = values[0]\n",
        "    coefs = np.asarray(values[1:], dtype='float32')\n",
        "    embeddings_index[word] = coefs\n",
        "f.close()"
      ],
      "execution_count": null,
      "outputs": []
    },
    {
      "cell_type": "markdown",
      "metadata": {
        "id": "v1wmuxpyInVM"
      },
      "source": [
        "Creating embedding matrix"
      ]
    },
    {
      "cell_type": "code",
      "metadata": {
        "id": "UMfKolq7qEc5"
      },
      "source": [
        "embedding_matrix = np.zeros((vocab_size, 100))\n",
        "for word, i in t.word_index.items():\n",
        "    embedding_vector = embeddings_index.get(word)\n",
        "    if embedding_vector is not None:\n",
        "        embedding_matrix[i] = embedding_vector"
      ],
      "execution_count": null,
      "outputs": []
    },
    {
      "cell_type": "markdown",
      "metadata": {
        "id": "TYIU2CwvcHfE"
      },
      "source": [
        "spliting data into train and test data."
      ]
    },
    {
      "cell_type": "code",
      "metadata": {
        "id": "ozZ4wYefcFwS"
      },
      "source": [
        "from sklearn.model_selection import train_test_split\n",
        "X_train, X_test , y_train, y_test = train_test_split(padded_tweets, label , test_size = 0.20)"
      ],
      "execution_count": null,
      "outputs": []
    },
    {
      "cell_type": "markdown",
      "metadata": {
        "id": "_-kykschIvtE"
      },
      "source": [
        "building BiLSTM model"
      ]
    },
    {
      "cell_type": "code",
      "metadata": {
        "id": "oY9liGURqSnv"
      },
      "source": [
        "model_glove = Sequential()\n",
        "model_glove.add(Embedding(vocab_size, 100, input_length=max_length, weights=[embedding_matrix], trainable=True))\n",
        "model_glove.add(Bidirectional(LSTM(60, return_sequences=True)))\n",
        "model_glove.add(Dropout(0.3))\n",
        "model_glove.add(Bidirectional(LSTM(20)))\n",
        "model_glove.add(Dropout(0.2))\n",
        "model_glove.add(Dense(20, activation='relu'))\n",
        "model_glove.add(Dropout(0.4))\n",
        "model_glove.add(Dense(1, activation='sigmoid'))\n",
        "model_glove.compile(loss='binary_crossentropy', optimizer='adam', metrics=['accuracy'])"
      ],
      "execution_count": null,
      "outputs": []
    },
    {
      "cell_type": "markdown",
      "metadata": {
        "id": "BQWPpihuI2Oj"
      },
      "source": [
        "Training model for batch_size 100 and 10 epochs"
      ]
    },
    {
      "cell_type": "code",
      "metadata": {
        "colab": {
          "base_uri": "https://localhost:8080/"
        },
        "id": "XbM2_G7Ar1y2",
        "outputId": "90e32882-c781-4d4b-cae8-e9e64997be4c"
      },
      "source": [
        "history=model_glove.fit(X_train, y_train,batch_size=100, epochs = 10)"
      ],
      "execution_count": null,
      "outputs": [
        {
          "output_type": "stream",
          "text": [
            "Epoch 1/10\n",
            "52/52 [==============================] - 29s 35ms/step - loss: 0.6507 - accuracy: 0.5965\n",
            "Epoch 2/10\n",
            "52/52 [==============================] - 2s 32ms/step - loss: 0.3775 - accuracy: 0.8576\n",
            "Epoch 3/10\n",
            "52/52 [==============================] - 2s 33ms/step - loss: 0.2462 - accuracy: 0.9181\n",
            "Epoch 4/10\n",
            "52/52 [==============================] - 2s 33ms/step - loss: 0.1727 - accuracy: 0.9467\n",
            "Epoch 5/10\n",
            "52/52 [==============================] - 2s 33ms/step - loss: 0.1057 - accuracy: 0.9693\n",
            "Epoch 6/10\n",
            "52/52 [==============================] - 2s 33ms/step - loss: 0.0716 - accuracy: 0.9822\n",
            "Epoch 7/10\n",
            "52/52 [==============================] - 2s 32ms/step - loss: 0.0436 - accuracy: 0.9881\n",
            "Epoch 8/10\n",
            "52/52 [==============================] - 2s 32ms/step - loss: 0.0281 - accuracy: 0.9934\n",
            "Epoch 9/10\n",
            "52/52 [==============================] - 2s 32ms/step - loss: 0.0306 - accuracy: 0.9940\n",
            "Epoch 10/10\n",
            "52/52 [==============================] - 2s 32ms/step - loss: 0.0446 - accuracy: 0.9903\n"
          ],
          "name": "stdout"
        }
      ]
    },
    {
      "cell_type": "code",
      "metadata": {
        "id": "yPm0_akvEf9a"
      },
      "source": [
        "\n",
        "from sklearn.metrics import classification_report"
      ],
      "execution_count": null,
      "outputs": []
    },
    {
      "cell_type": "markdown",
      "metadata": {
        "id": "SpHrrJuIJNQ7"
      },
      "source": [
        "predicting label for test data"
      ]
    },
    {
      "cell_type": "code",
      "metadata": {
        "id": "FmaJvm2Qz1FI"
      },
      "source": [
        "y_pred = model_glove.predict(X_test)\n",
        "y_predN=np.round(y_pred)"
      ],
      "execution_count": null,
      "outputs": []
    },
    {
      "cell_type": "markdown",
      "metadata": {
        "id": "-lRyKBHnJpAc"
      },
      "source": [
        "printing classification report"
      ]
    },
    {
      "cell_type": "code",
      "metadata": {
        "colab": {
          "base_uri": "https://localhost:8080/"
        },
        "id": "7QE7ue3Dz5gt",
        "outputId": "3b9713b5-dace-4774-8505-cbd0ac4fd233"
      },
      "source": [
        "print(classification_report(y_test, y_predN))"
      ],
      "execution_count": null,
      "outputs": [
        {
          "output_type": "stream",
          "text": [
            "              precision    recall  f1-score   support\n",
            "\n",
            "           0       0.93      0.92      0.92       588\n",
            "           1       0.93      0.94      0.94       696\n",
            "\n",
            "    accuracy                           0.93      1284\n",
            "   macro avg       0.93      0.93      0.93      1284\n",
            "weighted avg       0.93      0.93      0.93      1284\n",
            "\n"
          ],
          "name": "stdout"
        }
      ]
    },
    {
      "cell_type": "markdown",
      "metadata": {
        "id": "hpTKMzpgJuo9"
      },
      "source": [
        "ploting training loss with training accuracy."
      ]
    },
    {
      "cell_type": "markdown",
      "metadata": {
        "id": "c5fuHEc2JnYM"
      },
      "source": [
        ""
      ]
    },
    {
      "cell_type": "code",
      "metadata": {
        "colab": {
          "base_uri": "https://localhost:8080/",
          "height": 295
        },
        "id": "3iR-dLJq00gH",
        "outputId": "e339eec0-5ab5-4291-dfbf-c81724f571b9"
      },
      "source": [
        "train_loss = history.history['loss']\n",
        "train_acc = history.history['accuracy']\n",
        "epochs = range(0,10)\n",
        "plt.plot(epochs, train_loss, 'g', label='Training loss')\n",
        "plt.plot(epochs,train_acc,'r', label='train accuracy')\n",
        "plt.title('Training  loss')\n",
        "plt.xlabel('Epochs')\n",
        "plt.ylabel('Loss')\n",
        "plt.legend()\n",
        "plt.show()"
      ],
      "execution_count": null,
      "outputs": [
        {
          "output_type": "display_data",
          "data": {
            "image/png": "[encoded data removed]",
            "text/plain": [
              "<Figure size 432x288 with 1 Axes>"
            ]
          },
          "metadata": {
            "tags": [],
            "needs_background": "light"
          }
        }
      ]
    }
  ]
}